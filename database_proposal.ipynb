{
 "cells": [
  {
   "cell_type": "markdown",
   "id": "e6ab0fce",
   "metadata": {
    "slideshow": {
     "slide_type": "slide"
    }
   },
   "source": [
    "##  GROUP 1\n",
    "\n",
    "- Kriti, Zexin, Shubhi"
   ]
  },
  {
   "cell_type": "markdown",
   "id": "5abad318",
   "metadata": {
    "slideshow": {
     "slide_type": "slide"
    }
   },
   "source": [
    "# Proposal \n",
    "\n",
    "- March 21,2022"
   ]
  },
  {
   "cell_type": "markdown",
   "id": "ce73e20a",
   "metadata": {
    "slideshow": {
     "slide_type": "slide"
    }
   },
   "source": [
    "## TOPIC - DRUG REPOSITORY\n",
    "\n",
    "- Information about drug and drug properties\n",
    "- Association with diseases\n",
    "- Target proteins/genes\n",
    "- Drug to drug interations\n",
    "- Side effects"
   ]
  },
  {
   "cell_type": "markdown",
   "id": "180af1b4",
   "metadata": {
    "slideshow": {
     "slide_type": "slide"
    }
   },
   "source": [
    "## DATABASES\n",
    "\n",
    "- Drug (PubChem,ChEMBL,DrugBank,ChEBI)\n",
    "- Target predictions (Uniprot, InterPro)\n",
    "- Disease (KEGG,DisGeNET)\n",
    "- Side effect(SIDER 2) [Optional]"
   ]
  },
  {
   "cell_type": "markdown",
   "id": "d45d4713",
   "metadata": {
    "ExecuteTime": {
     "end_time": "2022-03-21T11:33:41.049039Z",
     "start_time": "2022-03-21T11:33:41.027979Z"
    },
    "slideshow": {
     "slide_type": "slide"
    }
   },
   "source": [
    "## EXPECTED DATABASE MODEL\n",
    "\n",
    "<img src = \"https://media.springernature.com/full/springer-static/image/art%3A10.1186%2Fs40537-015-0024-1/MediaObjects/40537_2015_24_Fig4_HTML.gif?as=webp\">\n",
    "\n",
    "\n",
    "Reference : https://journalofbigdata.springeropen.com/articles/10.1186/s40537-015-0024-1"
   ]
  },
  {
   "cell_type": "markdown",
   "id": "f49963d3",
   "metadata": {
    "slideshow": {
     "slide_type": "slide"
    }
   },
   "source": [
    "## ROADMAP\n",
    "\n",
    "- Query any drug in chemical database\n",
    "- Find the target gene/protein and association with disease\n",
    "- Find the side effects of the drug"
   ]
  }
 ],
 "metadata": {
  "celltoolbar": "Slideshow",
  "kernelspec": {
   "display_name": "biodb",
   "language": "python",
   "name": "biodb"
  },
  "language_info": {
   "codemirror_mode": {
    "name": "ipython",
    "version": 3
   },
   "file_extension": ".py",
   "mimetype": "text/x-python",
   "name": "python",
   "nbconvert_exporter": "python",
   "pygments_lexer": "ipython3",
   "version": "3.10.2"
  }
 },
 "nbformat": 4,
 "nbformat_minor": 5
}
